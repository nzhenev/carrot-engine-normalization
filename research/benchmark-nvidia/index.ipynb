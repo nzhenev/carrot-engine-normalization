{
  "nbformat": 4,
  "nbformat_minor": 0,
  "metadata": {
    "colab": {
      "provenance": []
    },
    "kernelspec": {
      "name": "python3",
      "display_name": "Python 3"
    },
    "language_info": {
      "name": "python"
    }
  },
  "cells": [
    {
      "cell_type": "code",
      "execution_count": null,
      "metadata": {
        "id": "2rMboDM4cljm"
      },
      "outputs": [],
      "source": [
        "## Install NeMo-text-processing\n",
        "BRANCH = 'main'\n",
        "!pip install datasets\n",
        "!pip install werpy\n",
        "!python -m pip install git+https://github.com/NVIDIA/NeMo-text-processing.git@$BRANCH#egg=nemo_text_processing"
      ]
    },
    {
      "cell_type": "code",
      "source": [
        "import werpy\n",
        "from datasets import load_dataset\n",
        "from nemo_text_processing.text_normalization.normalize import Normalizer\n",
        "testing_data = load_dataset(\"sellersew/carrot-engine-normalization-translation-v2\", data_files=\"native-tests.csv\")\n",
        "normalizer = Normalizer(input_case='cased', lang='en')"
      ],
      "metadata": {
        "id": "NKjmUCI3c41O"
      },
      "execution_count": null,
      "outputs": []
    },
    {
      "cell_type": "code",
      "source": [
        "def evalulate(text):\n",
        "    return normalizer.normalize(text, verbose=True, punct_post_process=True)"
      ],
      "metadata": {
        "id": "Tea98dGIc8Jq"
      },
      "execution_count": 7,
      "outputs": []
    },
    {
      "cell_type": "code",
      "source": [
        "import time\n",
        "from tqdm import tqdm\n",
        "\n",
        "start_time = time.time()\n",
        "passing    = 0\n",
        "failing    = 0\n",
        "WER        = []\n",
        "\n",
        "for entry in tqdm(testing_data[\"train\"], desc='Processing', unit='iteration'):\n",
        "    input  = entry[\"input\"]\n",
        "    output = evalulate(input)\n",
        "    WER.append(werpy.wer(input, output))\n",
        "    if input == output:\n",
        "        passing += 1\n",
        "    else:\n",
        "        failing += 1\n",
        "\n",
        "time_taken = time.time() - start_time"
      ],
      "metadata": {
        "id": "KVAPikJSdjQE"
      },
      "execution_count": null,
      "outputs": []
    },
    {
      "cell_type": "code",
      "source": [
        "average = sum(WER) / len(WER)\n",
        "print(\"Passing: \" + str(passing))\n",
        "print(\"Failing: \" + str(failing))\n",
        "print(\"WER    : \" + str(average))\n",
        "print(f'Time : {time_taken:.2f} seconds')"
      ],
      "metadata": {
        "colab": {
          "base_uri": "https://localhost:8080/"
        },
        "id": "NjQdIygFd-IT",
        "outputId": "bfe16c3e-52e1-4274-c357-decfa2f11d3a"
      },
      "execution_count": 9,
      "outputs": [
        {
          "output_type": "stream",
          "name": "stdout",
          "text": [
            "Passing: 347\n",
            "Failing: 559\n",
            "WER    : 0.605448141189473\n",
            "Time : 130.87 seconds\n"
          ]
        }
      ]
    }
  ]
}